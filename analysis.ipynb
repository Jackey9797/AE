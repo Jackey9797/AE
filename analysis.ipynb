{
 "cells": [
  {
   "cell_type": "markdown",
   "metadata": {},
   "source": [
    "## Single evaluate"
   ]
  },
  {
   "cell_type": "code",
   "execution_count": 1,
   "metadata": {},
   "outputs": [],
   "source": [
    "exp_name = \"exp666\"\n",
    "if not os.path.exists(os.path.join(\"exp\", exp_name)):\n",
    "    os.makedirs(os.path.join(\"exp\", exp_name)) \n",
    "exp_name = os.path.join(os.path.join(\"exp\", exp_name), exp_name)"
   ]
  },
  {
   "cell_type": "code",
   "execution_count": 2,
   "metadata": {},
   "outputs": [
    {
     "ename": "FileNotFoundError",
     "evalue": "[Errno 2] No such file or directory: 'exp/exp666/exp666.txt'",
     "output_type": "error",
     "traceback": [
      "\u001b[0;31m---------------------------------------------------------------------------\u001b[0m",
      "\u001b[0;31mFileNotFoundError\u001b[0m                         Traceback (most recent call last)",
      "Cell \u001b[0;32mIn [2], line 46\u001b[0m\n\u001b[1;32m     44\u001b[0m     plt\u001b[38;5;241m.\u001b[39msavefig(exp_name \u001b[38;5;241m+\u001b[39m \u001b[38;5;124m\"\u001b[39m\u001b[38;5;124m_ROC.png\u001b[39m\u001b[38;5;124m\"\u001b[39m)\n\u001b[1;32m     45\u001b[0m     \u001b[38;5;66;03m# plt.show()\u001b[39;00m\n\u001b[0;32m---> 46\u001b[0m \u001b[43moutput\u001b[49m\u001b[43m(\u001b[49m\u001b[43mexp_name\u001b[49m\u001b[43m)\u001b[49m\n",
      "Cell \u001b[0;32mIn [2], line 5\u001b[0m, in \u001b[0;36moutput\u001b[0;34m(exp_name)\u001b[0m\n\u001b[1;32m      2\u001b[0m x_score \u001b[38;5;241m=\u001b[39m []\n\u001b[1;32m      3\u001b[0m GT \u001b[38;5;241m=\u001b[39m [] \n\u001b[0;32m----> 5\u001b[0m \u001b[38;5;28;01mwith\u001b[39;00m \u001b[38;5;28;43mopen\u001b[39;49m\u001b[43m(\u001b[49m\u001b[43mexp_name\u001b[49m\u001b[43m \u001b[49m\u001b[38;5;241;43m+\u001b[39;49m\u001b[43m \u001b[49m\u001b[38;5;124;43m'\u001b[39;49m\u001b[38;5;124;43m.txt\u001b[39;49m\u001b[38;5;124;43m'\u001b[39;49m\u001b[43m,\u001b[49m\u001b[43m \u001b[49m\u001b[38;5;124;43m\"\u001b[39;49m\u001b[38;5;124;43mr\u001b[39;49m\u001b[38;5;124;43m\"\u001b[39;49m\u001b[43m)\u001b[49m \u001b[38;5;28;01mas\u001b[39;00m f:\n\u001b[1;32m      6\u001b[0m     tmp \u001b[38;5;241m=\u001b[39m f\u001b[38;5;241m.\u001b[39mreadline()\n\u001b[1;32m      8\u001b[0m     \u001b[38;5;28;01mwhile\u001b[39;00m tmp: \n",
      "\u001b[0;31mFileNotFoundError\u001b[0m: [Errno 2] No such file or directory: 'exp/exp666/exp666.txt'"
     ]
    }
   ],
   "source": [
    "\n",
    "def output(exp_name):\n",
    "    x_score = []\n",
    "    GT = [] \n",
    "\n",
    "    with open(exp_name + '.txt', \"r\") as f:\n",
    "        tmp = f.readline()\n",
    "        \n",
    "        while tmp: \n",
    "            x = tmp.split(' ')\n",
    "            x_score.append(float(x[0])) \n",
    "            GT.append(int(x[1][:-1]))\n",
    "            tmp = f.readline()\n",
    "\n",
    "    #------ 指标部分计算\n",
    "    from sklearn.metrics import roc_curve, auc\n",
    "    FPR, TPR, thresholds = roc_curve(GT, x_score)  \n",
    "\n",
    "    from sklearn.metrics import roc_auc_score\n",
    "    AUC = roc_auc_score(GT, x_score)\n",
    "\n",
    "    with open(exp_name + '_result.txt', 'w') as f: \n",
    "        f.write(\"AUC:\\n\")  \n",
    "        f.write(str(AUC))  \n",
    "        f.write('\\n')  \n",
    "        f.write(\"\\nFPR\\n\")  \n",
    "        f.write(str(FPR)) \n",
    "        f.write(\"\\nTPR\\n\")  \n",
    "        f.write(str(TPR)) \n",
    "        f.write(\"\\nthresholds\\n\")  \n",
    "        f.write(str(thresholds)) \n",
    "\n",
    "    import matplotlib.pyplot as plt\n",
    "    plt.figure()\n",
    "    lw = 2\n",
    "    plt.plot(FPR, TPR, color='darkorange',\n",
    "            lw=lw, label='ROC curve (area = %0.4f)' % AUC)\n",
    "    plt.plot([0, 1], [0, 1], color='navy', lw=lw, linestyle='--')\n",
    "    plt.xlim([0.0, 1.0])\n",
    "    plt.ylim([0.0, 1.05])\n",
    "    plt.xlabel('False Positive Rate')\n",
    "    plt.ylabel('True Positive Rate')\n",
    "    plt.title('ROC curve')\n",
    "    plt.legend(loc=\"lower right\")\n",
    "    plt.savefig(exp_name + \"_ROC.png\")\n",
    "    # plt.show()\n",
    "output(exp_name)"
   ]
  },
  {
   "cell_type": "markdown",
   "metadata": {},
   "source": [
    "## CL evaluate"
   ]
  }
 ],
 "metadata": {
  "kernelspec": {
   "display_name": "Python 3.10.6 ('CL')",
   "language": "python",
   "name": "python3"
  },
  "language_info": {
   "codemirror_mode": {
    "name": "ipython",
    "version": 3
   },
   "file_extension": ".py",
   "mimetype": "text/x-python",
   "name": "python",
   "nbconvert_exporter": "python",
   "pygments_lexer": "ipython3",
   "version": "3.10.6"
  },
  "orig_nbformat": 4,
  "vscode": {
   "interpreter": {
    "hash": "094eaae670c28e65ae0b4dc75619aca9a9a707dc132c2546902993ea42db861e"
   }
  }
 },
 "nbformat": 4,
 "nbformat_minor": 2
}
