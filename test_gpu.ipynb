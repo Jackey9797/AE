{
 "cells": [
  {
   "cell_type": "code",
   "execution_count": 2,
   "metadata": {},
   "outputs": [],
   "source": [
    "import torch "
   ]
  },
  {
   "cell_type": "code",
   "execution_count": 8,
   "metadata": {},
   "outputs": [
    {
     "data": {
      "text/plain": [
       "'NVIDIA GeForce GTX 1080 Ti'"
      ]
     },
     "execution_count": 8,
     "metadata": {},
     "output_type": "execute_result"
    }
   ],
   "source": [
    "torch.cuda.get_device_name(1)"
   ]
  },
  {
   "cell_type": "code",
   "execution_count": 4,
   "metadata": {},
   "outputs": [
    {
     "data": {
      "text/plain": [
       "2"
      ]
     },
     "execution_count": 4,
     "metadata": {},
     "output_type": "execute_result"
    }
   ],
   "source": [
    "# 返回gpu数量；\n",
    "torch.cuda.device_count()"
   ]
  },
  {
   "cell_type": "code",
   "execution_count": 13,
   "metadata": {},
   "outputs": [
    {
     "data": {
      "text/plain": [
       "0"
      ]
     },
     "execution_count": 13,
     "metadata": {},
     "output_type": "execute_result"
    }
   ],
   "source": [
    "# 返回当前设备索引；\n",
    "torch.cuda.current_device()"
   ]
  },
  {
   "cell_type": "code",
   "execution_count": 6,
   "metadata": {},
   "outputs": [
    {
     "name": "stdout",
     "output_type": "stream",
     "text": [
      "1.12.1+cu116\n",
      "True\n",
      "cpu 0.09576630592346191 tensor(141221.0469)\n",
      "cuda:0 0.002892017364501953 tensor(141364.6719, device='cuda:0')\n",
      "cuda:0 6.222724914550781e-05 tensor(141364.6719, device='cuda:0')\n"
     ]
    }
   ],
   "source": [
    "import torch\n",
    "import time\n",
    "\n",
    "print(torch.__version__)        # 返回pytorch的版本\n",
    "print(torch.cuda.is_available())        # 当CUDA可用时返回True\n",
    "\n",
    "a = torch.randn(10000, 1000)    # 返回10000行1000列的张量矩阵\n",
    "b = torch.randn(1000, 2000)     # 返回1000行2000列的张量矩阵\n",
    "\n",
    "t0 = time.time()        # 记录时间\n",
    "c = torch.matmul(a, b)      # 矩阵乘法运算\n",
    "t1 = time.time()        # 记录时间\n",
    "print(a.device, t1 - t0, c.norm(2))     # c.norm(2)表示矩阵c的二范数\n",
    "\n",
    "device = torch.device('cuda')       # 用GPU来运行\n",
    "a = a.to(device)\n",
    "b = b.to(device)\n",
    "\n",
    "# 初次调用GPU，需要数据传送，因此比较慢\n",
    "t0 = time.time()\n",
    "c = torch.matmul(a, b)\n",
    "t2 = time.time()\n",
    "print(a.device, t2 - t0, c.norm(2))\n",
    "\n",
    "# 这才是GPU处理数据的真实运行时间，当数据量越大，GPU的优势越明显\n",
    "t0 = time.time()\n",
    "c = torch.matmul(a, b)\n",
    "t2 = time.time()\n",
    "print(a.device, t2 - t0, c.norm(2))\n"
   ]
  }
 ],
 "metadata": {
  "kernelspec": {
   "display_name": "Python 3.10.6 ('CL')",
   "language": "python",
   "name": "python3"
  },
  "language_info": {
   "codemirror_mode": {
    "name": "ipython",
    "version": 3
   },
   "file_extension": ".py",
   "mimetype": "text/x-python",
   "name": "python",
   "nbconvert_exporter": "python",
   "pygments_lexer": "ipython3",
   "version": "3.10.6"
  },
  "orig_nbformat": 4,
  "vscode": {
   "interpreter": {
    "hash": "094eaae670c28e65ae0b4dc75619aca9a9a707dc132c2546902993ea42db861e"
   }
  }
 },
 "nbformat": 4,
 "nbformat_minor": 2
}
