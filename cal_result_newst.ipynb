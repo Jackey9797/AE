{
 "cells": [
  {
   "cell_type": "code",
   "execution_count": 3,
   "metadata": {},
   "outputs": [],
   "source": [
    "import os\n",
    "def cal_result(exp_name, criterion='best', verbose=False, draw_cm=False):\n",
    "    import dill as pickle\n",
    "    data_stream = 70\n",
    "    week_n = 7000 \n",
    "    cnt = 0\n",
    "    tp = 0\n",
    "    fp = 0\n",
    "    sum_a = 0\n",
    "    sum_n = 0\n",
    "    AVG = {'tpr':0.0,'fpr':0.0, 'AUC' :0.0} \n",
    "\n",
    "    with open('data/y.pkl', 'rb') as f:\n",
    "        y = pickle.load(f).flatten().tolist()\n",
    "\n",
    "    for stream in range(36, data_stream + 1): \n",
    "        pre = (stream - 1) * 7000\n",
    "        \n",
    "        flag = False \n",
    "        start, end = pre + week_n, pre + 2 * week_n\n",
    "        for j in range(start, end): \n",
    "            if y[j] == 1: \n",
    "                flag = True; sum_a += 1 \n",
    "            else: sum_n += 1\n",
    "\n",
    "        def read_score(exp_name, week): \n",
    "            lst = []\n",
    "            exp_name = os.path.join(os.path.join(\"exp2\", exp_name), exp_name)\n",
    "            with open(exp_name + \"Week\" + str(week) +  \"_result.txt\", \"r\") as f: \n",
    "                sc = float(f.readline()) \n",
    "                while sc != None: \n",
    "                    lst.append(sc)\n",
    "\n",
    "                    s = f.readline()\n",
    "                    # while !s: s = f.readline()\n",
    "                    if s == '': break  \n",
    "                    sc = float(s) \n",
    "\n",
    "            return lst                \n",
    "\n",
    "        if flag : \n",
    "            cnt += 1\n",
    "            x_score = read_score(exp_name, stream)\n",
    "            from sklearn.metrics import roc_curve, auc\n",
    "            GT = y[start: end]\n",
    "            from sklearn.metrics import roc_auc_score\n",
    "            AUC = roc_auc_score(GT, x_score)\n",
    "            if verbose:  print(stream, \" week :\", AUC)  #*\n",
    "            \n",
    "            # print(len(x_score), GT) \n",
    "            FPR, TPR, thresholds = roc_curve(GT, x_score)\n",
    "            maxindex = (TPR-FPR).tolist().index(max(TPR-FPR))\n",
    "            threshold = thresholds[maxindex]\n",
    "            tpr, fpr = TPR[maxindex], FPR[maxindex]\n",
    "            if verbose: print(\"tpr: %f , fpr: %f, thresh: %f\\n\" % (tpr, fpr, threshold)) #*\n",
    "\n",
    "            tp += sum([1 if x >= threshold and y == 1 else 0 for x, y in zip(x_score, GT)])\n",
    "            fp += sum([1 if x >= threshold and y == 0 else 0 for x, y in zip(x_score, GT)])\n",
    "            for i in AVG.keys(): \n",
    "                AVG[i] += eval(i)\n",
    "            # if criterion == 'bset': \n",
    "                # JD = [x - y for x, y in zip(TPR, FPR)]\n",
    "    # for i in AVG.keys():\n",
    "    #      AVG[i] /= cnt\n",
    "    print(tp, sum_a, fp, sum_n)\n",
    "    fn = sum_a - tp; tn = sum_n - fp \n",
    "    if draw_cm: \n",
    "        import matplotlib.pyplot as plt\n",
    "        import numpy as np\n",
    "        from sklearn.metrics import confusion_matrix\n",
    "        from sklearn.metrics import ConfusionMatrixDisplay\n",
    "        cm = np.array([[tn, fp], [fn, tp]])\n",
    "        print(cm)\n",
    "        ig = plt.figure()\n",
    "        plt.matshow(cm)\n",
    "        plt.title('Confusion Matrix')\n",
    "        plt.colorbar()\n",
    "        plt.ylabel('True Label')\n",
    "        plt.xlabel('Predicated Label')\n",
    "        for first_index in range(len(cm)):\n",
    "            for second_index in range(len(cm[first_index])):\n",
    "                plt.text(first_index, second_index, cm.T[first_index][second_index])\n",
    "        plt.savefig('confusion_matrix' + exp_name +'.jpg')\n",
    "\n",
    "        plt.close('all')\n",
    "    for i in AVG.keys():\n",
    "        AVG[i] /= cnt\n",
    "    pr =tp / (tp + fp) \n",
    "    rc =tp/ (tp + fn)\n",
    "    return {'tpr':tp / sum_a,'fpr': fp / sum_n, \"TP\":tp , \"FN\":fn, \"FP\": fp, \"TN\": tn, \"AUC\": AVG['AUC'], \"precision\":pr,\"recall\" :rc, \"f1\": 2 * pr * rc / (pr + rc)}\n",
    "\n",
    "# cal_result(\"exp_icarl_NN_0\")\n"
   ]
  },
  {
   "cell_type": "code",
   "execution_count": 4,
   "metadata": {},
   "outputs": [],
   "source": [
    "def f(p):\n",
    "    import pandas as pd \n",
    "    flag = False\n",
    "    df = None\n",
    "    print(p)\n",
    "    for i in range(0, 5): \n",
    "        tmp = cal_result(p[0] + str(i), verbose=False,draw_cm=False) # draw_cm: 是否可视化  #! to be relay\n",
    "        if flag != False: df = pd.concat([df, pd.DataFrame(data=tmp, index=[0])], axis=0) \n",
    "        else : df = pd.DataFrame(data=tmp, index=[0]); flag = True\n",
    "    return df\n",
    "\n",
    "# display(df)\n",
    "# df.describe()\n",
    "# pd.DataFrame(data=df.describe().loc['mean', :].to_dict(), index=[0])"
   ]
  },
  {
   "cell_type": "code",
   "execution_count": 7,
   "metadata": {},
   "outputs": [],
   "source": [
    "idx = [('FineTune', 'exp_finetune_' ),('LwF', 'exp_LwF_' ),('icarl异常分数选样本', 'exp_icarl_score_' ),(\"icarl瓶颈层选样本\",\"exp_icarl_\"),(\"icarl瓶颈层选样本+NN\",\"exp_icarl_NN_\")]\n",
    "idx = [('35', 'exp_FineTune35_')]\n",
    "# ,('随机初始化AE',\"exp_randominit_\"),(\"随机输出分数\", \"exp_randomoutput_\"), (\"非0特征数作为分数\", \"exp_naive_\")"
   ]
  },
  {
   "cell_type": "code",
   "execution_count": 8,
   "metadata": {},
   "outputs": [
    {
     "name": "stdout",
     "output_type": "stream",
     "text": [
      "['exp_FineTune35_']\n",
      "498 583 54939 244417\n",
      "506 583 63883 244417\n",
      "490 583 51736 244417\n",
      "487 583 59340 244417\n",
      "498 583 56238 244417\n"
     ]
    }
   ],
   "source": [
    "y = [f([idx[i][1]]) for i in range(len(idx))]\n",
    "import pandas as pd \n",
    "def proc(x, y): \n",
    "    d = {}\n",
    "    for i in x.keys(): \n",
    "        d[i] = \"%f ± %f\" % (x[i], y[i]) \n",
    "    return d \n",
    "tmp = [pd.DataFrame(data=x.describe().loc['mean', :].to_dict(), index=[0]) for x in y ]\n",
    "tmp1 = [pd.DataFrame(data=x.describe().loc['std', :].to_dict(), index=[0]) for x in y ]\n",
    "tmp2 = [pd.DataFrame(data=proc(x.describe().loc['mean', :].to_dict(),x.describe().loc['std', :].to_dict()), index=[0]) for x in y ]\n",
    "d = pd.concat(tmp, axis=0)\n",
    "d1 = pd.concat(tmp1, axis=0)\n",
    "d2 = pd.concat(tmp2, axis=0)"
   ]
  },
  {
   "cell_type": "code",
   "execution_count": 9,
   "metadata": {},
   "outputs": [
    {
     "data": {
      "text/html": [
       "<div>\n",
       "<style scoped>\n",
       "    .dataframe tbody tr th:only-of-type {\n",
       "        vertical-align: middle;\n",
       "    }\n",
       "\n",
       "    .dataframe tbody tr th {\n",
       "        vertical-align: top;\n",
       "    }\n",
       "\n",
       "    .dataframe thead th {\n",
       "        text-align: right;\n",
       "    }\n",
       "</style>\n",
       "<table border=\"1\" class=\"dataframe\">\n",
       "  <thead>\n",
       "    <tr style=\"text-align: right;\">\n",
       "      <th></th>\n",
       "      <th>tpr</th>\n",
       "      <th>fpr</th>\n",
       "      <th>TP</th>\n",
       "      <th>FN</th>\n",
       "      <th>FP</th>\n",
       "      <th>TN</th>\n",
       "      <th>AUC</th>\n",
       "      <th>precision</th>\n",
       "      <th>recall</th>\n",
       "      <th>f1</th>\n",
       "    </tr>\n",
       "  </thead>\n",
       "  <tbody>\n",
       "    <tr>\n",
       "      <th>35</th>\n",
       "      <td>0.850429 ± 0.012859</td>\n",
       "      <td>0.234138 ± 0.018875</td>\n",
       "      <td>495.800000 ± 7.496666</td>\n",
       "      <td>87.200000 ± 7.496666</td>\n",
       "      <td>57227.200000 ± 4613.329893</td>\n",
       "      <td>187189.800000 ± 4613.329893</td>\n",
       "      <td>0.836241 ± 0.007058</td>\n",
       "      <td>0.008628 ± 0.000622</td>\n",
       "      <td>0.850429 ± 0.012859</td>\n",
       "      <td>0.017082 ± 0.001218</td>\n",
       "    </tr>\n",
       "  </tbody>\n",
       "</table>\n",
       "</div>"
      ],
      "text/plain": [
       "                    tpr                  fpr                     TP  \\\n",
       "35  0.850429 ± 0.012859  0.234138 ± 0.018875  495.800000 ± 7.496666   \n",
       "\n",
       "                      FN                          FP  \\\n",
       "35  87.200000 ± 7.496666  57227.200000 ± 4613.329893   \n",
       "\n",
       "                             TN                  AUC            precision  \\\n",
       "35  187189.800000 ± 4613.329893  0.836241 ± 0.007058  0.008628 ± 0.000622   \n",
       "\n",
       "                 recall                   f1  \n",
       "35  0.850429 ± 0.012859  0.017082 ± 0.001218  "
      ]
     },
     "execution_count": 9,
     "metadata": {},
     "output_type": "execute_result"
    }
   ],
   "source": [
    "# print(d)\n",
    "d2.index = list(list(zip(*idx))[0])\n",
    "\n",
    "# p = d.style.set_properties(**{'text-align': 'left'})\n",
    "d\n",
    "d1\n",
    "\n",
    "d2.to_excel(\"result.xlsx\")\n",
    "d2"
   ]
  },
  {
   "cell_type": "code",
   "execution_count": null,
   "metadata": {},
   "outputs": [
    {
     "name": "stdout",
     "output_type": "stream",
     "text": [
      "512 583 58154 244417\n",
      "{'tpr': 0.8782161234991424, 'fpr': 0.23792944025988372, 'TP': 512, 'FN': 71, 'FP': 58154, 'TN': 186263}\n",
      "490 583 57064 244417\n",
      "{'tpr': 0.8404802744425386, 'fpr': 0.2334698486602814, 'TP': 490, 'FN': 93, 'FP': 57064, 'TN': 187353}\n",
      "547 583 32059 244417\n",
      "{'tpr': 0.9382504288164666, 'fpr': 0.1311651808180282, 'TP': 547, 'FN': 36, 'FP': 32059, 'TN': 212358}\n"
     ]
    },
    {
     "data": {
      "text/plain": [
       "{'tpr': 0.885648942252716,\n",
       " 'fpr': 0.20085482324606443,\n",
       " 'TP': 516.3333333333334,\n",
       " 'FN': 66.66666666666667,\n",
       " 'FP': 49092.333333333336,\n",
       " 'TN': 195324.66666666666}"
      ]
     },
     "execution_count": 38,
     "metadata": {},
     "output_type": "execute_result"
    }
   ],
   "source": [
    "import pandas as pd \n",
    "flag = False\n",
    "df = None\n",
    "# p = [\"exp_finetune_0\", \"exp_icarl_0\", \"exp_icarl_NN_0\"]\n",
    "p = \n",
    "\n",
    "for i in p: \n",
    "    j = i\n",
    "    tmp = cal_result(j, verbose=False) \n",
    "    print(tmp)\n",
    "    if flag != False: df = pd.concat([df, pd.DataFrame(data=tmp, index=[0])], axis=0) \n",
    "    else : df = pd.DataFrame(data=tmp, index=[0]); flag = True\n",
    "\n",
    "df.describe().loc['mean', :].to_dict()\n"
   ]
  }
 ],
 "metadata": {
  "kernelspec": {
   "display_name": "Python 3.10.6 ('CL')",
   "language": "python",
   "name": "python3"
  },
  "language_info": {
   "codemirror_mode": {
    "name": "ipython",
    "version": 3
   },
   "file_extension": ".py",
   "mimetype": "text/x-python",
   "name": "python",
   "nbconvert_exporter": "python",
   "pygments_lexer": "ipython3",
   "version": "3.10.6"
  },
  "orig_nbformat": 4,
  "vscode": {
   "interpreter": {
    "hash": "094eaae670c28e65ae0b4dc75619aca9a9a707dc132c2546902993ea42db861e"
   }
  }
 },
 "nbformat": 4,
 "nbformat_minor": 2
}
