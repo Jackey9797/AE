{
 "cells": [
  {
   "cell_type": "code",
   "execution_count": 6,
   "metadata": {},
   "outputs": [
    {
     "data": {
      "text/plain": [
       "tensor([2., 2., 2., 2.])"
      ]
     },
     "execution_count": 6,
     "metadata": {},
     "output_type": "execute_result"
    }
   ],
   "source": [
    "import torch \n",
    "x = torch.ones(1, 4)\n",
    "y = torch.ones(1, 4)\n",
    "torch.sum(torch.concat([x, y]), axis=0)"
   ]
  },
  {
   "cell_type": "code",
   "execution_count": 18,
   "metadata": {},
   "outputs": [
    {
     "data": {
      "text/plain": [
       "2"
      ]
     },
     "execution_count": 18,
     "metadata": {},
     "output_type": "execute_result"
    }
   ],
   "source": [
    "import math\n",
    "math.floor(5 / 2)"
   ]
  },
  {
   "cell_type": "code",
   "execution_count": 12,
   "metadata": {},
   "outputs": [],
   "source": [
    "d = {} \n",
    "\n",
    "N = int(1e8)\n",
    "x = 0.2134124 ; y = 12312 \n",
    "p = 0\n",
    "\n",
    "for i in range(1, N): \n",
    "    # d.setdefault(0, 1) \n",
    "    # if d[0] != -1: d[0] += 1\n",
    "    pass \n",
    "\n"
   ]
  }
 ],
 "metadata": {
  "kernelspec": {
   "display_name": "Python 3.10.6 ('CL')",
   "language": "python",
   "name": "python3"
  },
  "language_info": {
   "codemirror_mode": {
    "name": "ipython",
    "version": 3
   },
   "file_extension": ".py",
   "mimetype": "text/x-python",
   "name": "python",
   "nbconvert_exporter": "python",
   "pygments_lexer": "ipython3",
   "version": "3.10.6"
  },
  "orig_nbformat": 4,
  "vscode": {
   "interpreter": {
    "hash": "094eaae670c28e65ae0b4dc75619aca9a9a707dc132c2546902993ea42db861e"
   }
  }
 },
 "nbformat": 4,
 "nbformat_minor": 2
}
