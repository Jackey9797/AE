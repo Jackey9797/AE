{
 "cells": [
  {
   "cell_type": "code",
   "execution_count": 6,
   "metadata": {},
   "outputs": [
    {
     "data": {
      "text/plain": [
       "tensor([2., 2., 2., 2.])"
      ]
     },
     "execution_count": 6,
     "metadata": {},
     "output_type": "execute_result"
    }
   ],
   "source": [
    "import torch \n",
    "x = torch.ones(1, 4)\n",
    "y = torch.ones(1, 4)\n",
    "torch.sum(torch.concat([x, y]), axis=0)"
   ]
  },
  {
   "cell_type": "code",
   "execution_count": 18,
   "metadata": {},
   "outputs": [
    {
     "data": {
      "text/plain": [
       "2"
      ]
     },
     "execution_count": 18,
     "metadata": {},
     "output_type": "execute_result"
    }
   ],
   "source": [
    "import math\n",
    "math.floor(5 / 2)"
   ]
  },
  {
   "cell_type": "code",
   "execution_count": 12,
   "metadata": {},
   "outputs": [],
   "source": [
    "d = {} \n",
    "\n",
    "N = int(1e8)\n",
    "x = 0.2134124 ; y = 12312 \n",
    "p = 0\n",
    "\n",
    "for i in range(1, N): \n",
    "    # d.setdefault(0, 1) \n",
    "    # if d[0] != -1: d[0] += 1\n",
    "    pass \n",
    "\n"
   ]
  },
  {
   "cell_type": "code",
   "execution_count": 31,
   "metadata": {},
   "outputs": [
    {
     "data": {
      "text/plain": [
       "tensor(0.1708)"
      ]
     },
     "execution_count": 31,
     "metadata": {},
     "output_type": "execute_result"
    }
   ],
   "source": [
    "import torch\n",
    "\n",
    "s = 0 \n",
    "\n",
    "X = torch.rand(( 500))\n",
    "Y = torch.rand(( 500))\n",
    "for i in range(1000000):\n",
    "    s += torch.sum((X - Y) ** 2)\n",
    "\n",
    "s / 1000000 / 500"
   ]
  },
  {
   "cell_type": "code",
   "execution_count": 30,
   "metadata": {},
   "outputs": [
    {
     "data": {
      "text/plain": [
       "tensor(0.1616, device='cuda:0')"
      ]
     },
     "execution_count": 30,
     "metadata": {},
     "output_type": "execute_result"
    }
   ],
   "source": [
    "import torch\n",
    "# device = torch.cuda()\n",
    "s = 0 \n",
    "X = torch.rand(( 500)).cuda()\n",
    "Y = torch.rand(( 500)).cuda()\n",
    "for i in range(1000000):\n",
    "    \n",
    "    s += torch.sum((X - Y) ** 2)\n",
    "\n",
    "s / 1000000 / 500"
   ]
  },
  {
   "cell_type": "code",
   "execution_count": 32,
   "metadata": {},
   "outputs": [
    {
     "name": "stdout",
     "output_type": "stream",
     "text": [
      "0.5189881324768066\n",
      "1.0438032150268555\n",
      "1.5654582977294922\n",
      "2.108515501022339\n",
      "2.614612340927124\n",
      "3.451664924621582\n",
      "4.049226999282837\n",
      "4.6849565505981445\n",
      "5.09651780128479\n"
     ]
    }
   ],
   "source": [
    "import torch\n",
    "import time\n",
    "\n",
    "for i in range(1,10):\n",
    "    start_time = time.time() #返回当前语句运行时的时间点（单位秒）。\n",
    "    a = torch.rand(i*100, 1000, 1000)   #生成i*100个的1000行1000矩阵组成的张量，每个元素为0-1之间的随机值。\n",
    "    a = torch.mul(a,a)\n",
    "    Cul_end_time = time.time() - start_time\n",
    "    print(Cul_end_time)\n"
   ]
  },
  {
   "cell_type": "code",
   "execution_count": 34,
   "metadata": {},
   "outputs": [
    {
     "name": "stdout",
     "output_type": "stream",
     "text": [
      "0.5405759811401367\n",
      "1.098853588104248\n",
      "1.653836727142334\n",
      "2.255573272705078\n",
      "2.631728172302246\n",
      "3.266833782196045\n",
      "3.773319721221924\n",
      "4.6347880363464355\n",
      "5.042418718338013\n"
     ]
    }
   ],
   "source": [
    "import torch\n",
    "import time\n",
    "\n",
    "for i in range(1,10):\n",
    "    start_time = time.time() #return current time in second.\n",
    "    a = torch.rand(i*100, 1000, 1000)\n",
    "    \n",
    "    a = a.cuda()   #和上面的区别是，a.cuda()把张量a转到GPU中，下面的运算就在GPU进行了\n",
    "    \n",
    "    a = torch.mul(a,a)\n",
    "    Cul_end_time = time.time() - start_time\n",
    "    print(Cul_end_time)\n"
   ]
  },
  {
   "cell_type": "code",
   "execution_count": 1,
   "metadata": {},
   "outputs": [],
   "source": [
    "import torch "
   ]
  },
  {
   "cell_type": "code",
   "execution_count": 2,
   "metadata": {},
   "outputs": [],
   "source": [
    "X = torch.ones((5, 10)) \n",
    "y = torch.zeros((8, 10))"
   ]
  },
  {
   "cell_type": "code",
   "execution_count": 16,
   "metadata": {},
   "outputs": [
    {
     "data": {
      "text/plain": [
       "torch.Size([5, 0])"
      ]
     },
     "execution_count": 16,
     "metadata": {},
     "output_type": "execute_result"
    }
   ],
   "source": [
    "# X.repeat(1, 2,  1).shape# - y\n",
    "# X.repeat(1, 0).shape# - y"
   ]
  }
 ],
 "metadata": {
  "kernelspec": {
   "display_name": "Python 3.10.6 ('CL')",
   "language": "python",
   "name": "python3"
  },
  "language_info": {
   "codemirror_mode": {
    "name": "ipython",
    "version": 3
   },
   "file_extension": ".py",
   "mimetype": "text/x-python",
   "name": "python",
   "nbconvert_exporter": "python",
   "pygments_lexer": "ipython3",
   "version": "3.10.6"
  },
  "orig_nbformat": 4,
  "vscode": {
   "interpreter": {
    "hash": "094eaae670c28e65ae0b4dc75619aca9a9a707dc132c2546902993ea42db861e"
   }
  }
 },
 "nbformat": 4,
 "nbformat_minor": 2
}
