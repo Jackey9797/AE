{
 "cells": [
  {
   "cell_type": "code",
   "execution_count": 1,
   "metadata": {},
   "outputs": [],
   "source": [
    "def cal_result(exp_name, criterion='best', verbose=False):\n",
    "    import dill as pickle\n",
    "    data_stream = 70\n",
    "    week_n = 7000 \n",
    "    cnt = 0\n",
    "    AVG = {'tpr':0.0,'fpr':0.0, 'AUC' :0.0} \n",
    "\n",
    "    with open('data/y.pkl', 'rb') as f:\n",
    "        y = pickle.load(f).flatten().tolist()\n",
    "\n",
    "    for stream in range(1, data_stream + 1): \n",
    "        pre = (stream - 1) * 7000\n",
    "        \n",
    "        flag = False \n",
    "        start, end = pre + week_n, pre + 2 * week_n\n",
    "        for j in range(start, end): \n",
    "            if y[j] == 1: \n",
    "                flag = True; break \n",
    "\n",
    "        def read_score(exp_name, week): \n",
    "            lst = []\n",
    "            exp_name = os.path.join(os.path.join(\"exp\", exp_name), exp_name)\n",
    "            with open(exp_name + \"Week\" + str(week) +  \"_result.txt\", \"r\") as f: \n",
    "                sc = float(f.readline()) \n",
    "                while sc != None: \n",
    "                    lst.append(sc)\n",
    "\n",
    "                    s = f.readline()\n",
    "                    # while !s: s = f.readline()\n",
    "                    if s == '': break  \n",
    "                    sc = float(s) \n",
    "\n",
    "            return lst                \n",
    "\n",
    "        if flag : \n",
    "            cnt += 1\n",
    "            x_score = read_score(exp_name, stream)\n",
    "            from sklearn.metrics import roc_curve, auc\n",
    "            GT = y[start: end]\n",
    "            from sklearn.metrics import roc_auc_score\n",
    "            AUC = roc_auc_score(GT, x_score)\n",
    "            if verbose:  print(stream, \" week :\", AUC)  #*\n",
    "            \n",
    "            # print(len(x_score), GT) \n",
    "            FPR, TPR, thresholds = roc_curve(GT, x_score)\n",
    "            maxindex = (TPR-FPR).tolist().index(max(TPR-FPR))\n",
    "            threshold = thresholds[maxindex]\n",
    "            tpr, fpr = TPR[maxindex], FPR[maxindex]\n",
    "            if verbose: print(\"tpr: %f , fpr: %f, thresh: %f\\n\" % (tpr, fpr, threshold)) #*\n",
    "\n",
    "            for i in AVG.keys(): \n",
    "                AVG[i] += eval(i)\n",
    "            # if criterion == 'bset': \n",
    "                # JD = [x - y for x, y in zip(TPR, FPR)]\n",
    "    for i in AVG.keys():\n",
    "         AVG[i] /= cnt\n",
    "    print(AVG)\n",
    "    return AVG \n"
   ]
  },
  {
   "cell_type": "code",
   "execution_count": 3,
   "metadata": {},
   "outputs": [
    {
     "name": "stdout",
     "output_type": "stream",
     "text": [
      "{'tpr': 0.9462026523460878, 'fpr': 0.13527539913613262, 'AUC': 0.9283186025541529}\n",
      "{'tpr': 0.9410876833187392, 'fpr': 0.14434869921037155, 'AUC': 0.9235613948238716}\n",
      "{'tpr': 0.9316481317974623, 'fpr': 0.14266396000559206, 'AUC': 0.9195391946174637}\n",
      "{'tpr': 0.9506741354844972, 'fpr': 0.14251787559718943, 'AUC': 0.9292096132106542}\n",
      "{'tpr': 0.9251376155880469, 'fpr': 0.1513187532489418, 'AUC': 0.9165720764115406}\n",
      "{'tpr': 0.9505933883685628, 'fpr': 0.15048647737435084, 'AUC': 0.9232258374146308}\n",
      "{'tpr': 0.9478323691394557, 'fpr': 0.1531397777373105, 'AUC': 0.9206030695308176}\n",
      "{'tpr': 0.9538557963678269, 'fpr': 0.13823986971820204, 'AUC': 0.9279920431481691}\n",
      "{'tpr': 0.9582868475929279, 'fpr': 0.14829871522621588, 'AUC': 0.9273923869890518}\n",
      "{'tpr': 0.9378076363746343, 'fpr': 0.13146012286057268, 'AUC': 0.9262005508551354}\n"
     ]
    },
    {
     "data": {
      "text/plain": [
       "{'tpr': 0.944312625637824,\n",
       " 'fpr': 0.14377496501148795,\n",
       " 'AUC': 0.9242614769555487}"
      ]
     },
     "execution_count": 3,
     "metadata": {},
     "output_type": "execute_result"
    }
   ],
   "source": [
    "import pandas as pd \n",
    "flag = False\n",
    "df = None\n",
    "p = [\"exp_icarl_NN_\"]\n",
    "\n",
    "# for i in p: \n",
    "#     j = i\n",
    "#     tmp = cal_result(j, verbose=False) \n",
    "#     if flag != False: df = pd.concat([df, pd.DataFrame(data=tmp, index=[0])], axis=0) \n",
    "#     else : df = pd.DataFrame(data=tmp, index=[0]); flag = True\n",
    "\n",
    "for i in range(0, 10): \n",
    "    tmp = cal_result(p[0] + str(i), verbose=False) \n",
    "    if flag != False: df = pd.concat([df, pd.DataFrame(data=tmp, index=[0])], axis=0) \n",
    "    else : df = pd.DataFrame(data=tmp, index=[0]); flag = True\n",
    "\n",
    "# display(df)\n",
    "# df.describe()\n",
    "df.describe().loc['mean', :].to_dict()"
   ]
  }
 ],
 "metadata": {
  "kernelspec": {
   "display_name": "Python 3.10.6 ('CL')",
   "language": "python",
   "name": "python3"
  },
  "language_info": {
   "codemirror_mode": {
    "name": "ipython",
    "version": 3
   },
   "file_extension": ".py",
   "mimetype": "text/x-python",
   "name": "python",
   "nbconvert_exporter": "python",
   "pygments_lexer": "ipython3",
   "version": "3.10.6"
  },
  "orig_nbformat": 4,
  "vscode": {
   "interpreter": {
    "hash": "094eaae670c28e65ae0b4dc75619aca9a9a707dc132c2546902993ea42db861e"
   }
  }
 },
 "nbformat": 4,
 "nbformat_minor": 2
}
