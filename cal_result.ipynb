{
 "cells": [
  {
   "cell_type": "code",
   "execution_count": 2,
   "metadata": {},
   "outputs": [],
   "source": [
    "def cal_result(exp_name, criterion='best', verbose=False):\n",
    "    import dill as pickle\n",
    "    data_stream = 70\n",
    "    week_n = 7000 \n",
    "    cnt = 0\n",
    "    AVG = {'tpr':0.0,'fpr':0.0, 'AUC' :0.0} \n",
    "\n",
    "    with open('data/y.pkl', 'rb') as f:\n",
    "        y = pickle.load(f).flatten().tolist()\n",
    "\n",
    "    for stream in range(1, data_stream + 1): \n",
    "        pre = (stream - 1) * 7000\n",
    "        \n",
    "        flag = False \n",
    "        start, end = pre + week_n, pre + 2 * week_n\n",
    "        for j in range(start, end): \n",
    "            if y[j] == 1: \n",
    "                flag = True; break \n",
    "\n",
    "        def read_score(exp_name, week): \n",
    "            lst = []\n",
    "            exp_name = os.path.join(os.path.join(\"exp\", exp_name), exp_name)\n",
    "            with open(exp_name + \"Week\" + str(week) +  \"_result.txt\", \"r\") as f: \n",
    "                sc = float(f.readline()) \n",
    "                while sc != None: \n",
    "                    lst.append(sc)\n",
    "\n",
    "                    s = f.readline()\n",
    "                    # while !s: s = f.readline()\n",
    "                    if s == '': break  \n",
    "                    sc = float(s) \n",
    "\n",
    "            return lst                \n",
    "\n",
    "        if flag : \n",
    "            cnt += 1\n",
    "            x_score = read_score(exp_name, stream)\n",
    "            from sklearn.metrics import roc_curve, auc\n",
    "            GT = y[start: end]\n",
    "            from sklearn.metrics import roc_auc_score\n",
    "            AUC = roc_auc_score(GT, x_score)\n",
    "            if verbose:  print(stream, \" week :\", AUC)  #*\n",
    "            \n",
    "            # print(len(x_score), GT) \n",
    "            FPR, TPR, thresholds = roc_curve(GT, x_score)\n",
    "            maxindex = (TPR-FPR).tolist().index(max(TPR-FPR))\n",
    "            threshold = thresholds[maxindex]\n",
    "            tpr, fpr = TPR[maxindex], FPR[maxindex]\n",
    "            if verbose: print(\"tpr: %f , fpr: %f, thresh: %f\\n\" % (tpr, fpr, threshold)) #*\n",
    "\n",
    "            for i in AVG.keys(): \n",
    "                AVG[i] += eval(i)\n",
    "            # if criterion == 'bset': \n",
    "                # JD = [x - y for x, y in zip(TPR, FPR)]\n",
    "    for i in AVG.keys():\n",
    "         AVG[i] /= cnt\n",
    "    print(AVG)\n",
    "    return AVG \n"
   ]
  },
  {
   "cell_type": "code",
   "execution_count": 36,
   "metadata": {},
   "outputs": [
    {
     "name": "stdout",
     "output_type": "stream",
     "text": [
      "{'tpr': 0.8576397173213972, 'fpr': 0.2481695896176379, 'AUC': 0.8348219737428696}\n"
     ]
    },
    {
     "data": {
      "text/plain": [
       "{'tpr': 0.8576397173213972,\n",
       " 'fpr': 0.2481695896176379,\n",
       " 'AUC': 0.8348219737428696}"
      ]
     },
     "execution_count": 36,
     "metadata": {},
     "output_type": "execute_result"
    }
   ],
   "source": [
    "cal_result(\"exp_icarl_all_data_None\")\n"
   ]
  },
  {
   "cell_type": "code",
   "execution_count": 37,
   "metadata": {},
   "outputs": [
    {
     "name": "stdout",
     "output_type": "stream",
     "text": [
      "{'tpr': 0.7235216561375504, 'fpr': 0.5952716761471374, 'AUC': 0.4823382299341464}\n"
     ]
    },
    {
     "data": {
      "text/plain": [
       "{'tpr': 0.7235216561375504,\n",
       " 'fpr': 0.5952716761471374,\n",
       " 'AUC': 0.4823382299341464}"
      ]
     },
     "execution_count": 37,
     "metadata": {},
     "output_type": "execute_result"
    }
   ],
   "source": [
    "cal_result(\"exp_icarl_all_data_None1\")\n"
   ]
  },
  {
   "cell_type": "code",
   "execution_count": 3,
   "metadata": {},
   "outputs": [
    {
     "name": "stdout",
     "output_type": "stream",
     "text": [
      "{'tpr': 0.8997311519836064, 'fpr': 0.19782794044505075, 'AUC': 0.8896230813987891}\n"
     ]
    },
    {
     "data": {
      "text/plain": [
       "{'tpr': 0.8997311519836064,\n",
       " 'fpr': 0.19782794044505075,\n",
       " 'AUC': 0.8896230813987891}"
      ]
     },
     "execution_count": 3,
     "metadata": {},
     "output_type": "execute_result"
    }
   ],
   "source": [
    "cal_result(\"exp_icarl_all_data_None_exp\")\n"
   ]
  },
  {
   "cell_type": "code",
   "execution_count": 30,
   "metadata": {},
   "outputs": [
    {
     "name": "stdout",
     "output_type": "stream",
     "text": [
      "{'tpr': 0.8490020343274572, 'fpr': 0.253374548476613, 'AUC': 0.8325270388126781}\n",
      "{'tpr': 0.8544147194626095, 'fpr': 0.2352490044480786, 'AUC': 0.8442588427212386}\n",
      "{'tpr': 0.8274044331564153, 'fpr': 0.23730192834814542, 'AUC': 0.829287630276777}\n"
     ]
    }
   ],
   "source": [
    "import pandas as pd \n",
    "flag = False\n",
    "df = None\n",
    "p = {1:\"\",2:'_1',3:\"_3\"}\n",
    "for i in range(1, 4): \n",
    "    j = p[i]\n",
    "    tmp = cal_result(\"exp_icarl_all_data\" + j, verbose=False) \n",
    "    if flag != False: df = pd.concat([df, pd.DataFrame(data=tmp, index=[0])], axis=0) \n",
    "    else : df = pd.DataFrame(data=tmp, index=[0]); flag = True\n"
   ]
  },
  {
   "cell_type": "code",
   "execution_count": 31,
   "metadata": {},
   "outputs": [
    {
     "data": {
      "text/html": [
       "<div>\n",
       "<style scoped>\n",
       "    .dataframe tbody tr th:only-of-type {\n",
       "        vertical-align: middle;\n",
       "    }\n",
       "\n",
       "    .dataframe tbody tr th {\n",
       "        vertical-align: top;\n",
       "    }\n",
       "\n",
       "    .dataframe thead th {\n",
       "        text-align: right;\n",
       "    }\n",
       "</style>\n",
       "<table border=\"1\" class=\"dataframe\">\n",
       "  <thead>\n",
       "    <tr style=\"text-align: right;\">\n",
       "      <th></th>\n",
       "      <th>tpr</th>\n",
       "      <th>fpr</th>\n",
       "      <th>AUC</th>\n",
       "    </tr>\n",
       "  </thead>\n",
       "  <tbody>\n",
       "    <tr>\n",
       "      <th>0</th>\n",
       "      <td>0.849002</td>\n",
       "      <td>0.253375</td>\n",
       "      <td>0.832527</td>\n",
       "    </tr>\n",
       "    <tr>\n",
       "      <th>0</th>\n",
       "      <td>0.854415</td>\n",
       "      <td>0.235249</td>\n",
       "      <td>0.844259</td>\n",
       "    </tr>\n",
       "    <tr>\n",
       "      <th>0</th>\n",
       "      <td>0.827404</td>\n",
       "      <td>0.237302</td>\n",
       "      <td>0.829288</td>\n",
       "    </tr>\n",
       "  </tbody>\n",
       "</table>\n",
       "</div>"
      ],
      "text/plain": [
       "        tpr       fpr       AUC\n",
       "0  0.849002  0.253375  0.832527\n",
       "0  0.854415  0.235249  0.844259\n",
       "0  0.827404  0.237302  0.829288"
      ]
     },
     "metadata": {},
     "output_type": "display_data"
    }
   ],
   "source": [
    "display(df)"
   ]
  },
  {
   "cell_type": "code",
   "execution_count": 32,
   "metadata": {},
   "outputs": [
    {
     "data": {
      "text/html": [
       "<div>\n",
       "<style scoped>\n",
       "    .dataframe tbody tr th:only-of-type {\n",
       "        vertical-align: middle;\n",
       "    }\n",
       "\n",
       "    .dataframe tbody tr th {\n",
       "        vertical-align: top;\n",
       "    }\n",
       "\n",
       "    .dataframe thead th {\n",
       "        text-align: right;\n",
       "    }\n",
       "</style>\n",
       "<table border=\"1\" class=\"dataframe\">\n",
       "  <thead>\n",
       "    <tr style=\"text-align: right;\">\n",
       "      <th></th>\n",
       "      <th>tpr</th>\n",
       "      <th>fpr</th>\n",
       "      <th>AUC</th>\n",
       "    </tr>\n",
       "  </thead>\n",
       "  <tbody>\n",
       "    <tr>\n",
       "      <th>count</th>\n",
       "      <td>3.000000</td>\n",
       "      <td>3.000000</td>\n",
       "      <td>3.000000</td>\n",
       "    </tr>\n",
       "    <tr>\n",
       "      <th>mean</th>\n",
       "      <td>0.843607</td>\n",
       "      <td>0.241975</td>\n",
       "      <td>0.835358</td>\n",
       "    </tr>\n",
       "    <tr>\n",
       "      <th>std</th>\n",
       "      <td>0.014290</td>\n",
       "      <td>0.009925</td>\n",
       "      <td>0.007877</td>\n",
       "    </tr>\n",
       "    <tr>\n",
       "      <th>min</th>\n",
       "      <td>0.827404</td>\n",
       "      <td>0.235249</td>\n",
       "      <td>0.829288</td>\n",
       "    </tr>\n",
       "    <tr>\n",
       "      <th>25%</th>\n",
       "      <td>0.838203</td>\n",
       "      <td>0.236275</td>\n",
       "      <td>0.830907</td>\n",
       "    </tr>\n",
       "    <tr>\n",
       "      <th>50%</th>\n",
       "      <td>0.849002</td>\n",
       "      <td>0.237302</td>\n",
       "      <td>0.832527</td>\n",
       "    </tr>\n",
       "    <tr>\n",
       "      <th>75%</th>\n",
       "      <td>0.851708</td>\n",
       "      <td>0.245338</td>\n",
       "      <td>0.838393</td>\n",
       "    </tr>\n",
       "    <tr>\n",
       "      <th>max</th>\n",
       "      <td>0.854415</td>\n",
       "      <td>0.253375</td>\n",
       "      <td>0.844259</td>\n",
       "    </tr>\n",
       "  </tbody>\n",
       "</table>\n",
       "</div>"
      ],
      "text/plain": [
       "            tpr       fpr       AUC\n",
       "count  3.000000  3.000000  3.000000\n",
       "mean   0.843607  0.241975  0.835358\n",
       "std    0.014290  0.009925  0.007877\n",
       "min    0.827404  0.235249  0.829288\n",
       "25%    0.838203  0.236275  0.830907\n",
       "50%    0.849002  0.237302  0.832527\n",
       "75%    0.851708  0.245338  0.838393\n",
       "max    0.854415  0.253375  0.844259"
      ]
     },
     "execution_count": 32,
     "metadata": {},
     "output_type": "execute_result"
    }
   ],
   "source": [
    "df.describe()"
   ]
  },
  {
   "cell_type": "code",
   "execution_count": 33,
   "metadata": {},
   "outputs": [
    {
     "data": {
      "text/plain": [
       "{'tpr': 0.843607062315494,\n",
       " 'fpr': 0.24197516042427902,\n",
       " 'AUC': 0.8353578372702312}"
      ]
     },
     "execution_count": 33,
     "metadata": {},
     "output_type": "execute_result"
    }
   ],
   "source": [
    "df.describe().loc['mean', :].to_dict()"
   ]
  }
 ],
 "metadata": {
  "kernelspec": {
   "display_name": "Python 3.10.6 ('CL')",
   "language": "python",
   "name": "python3"
  },
  "language_info": {
   "codemirror_mode": {
    "name": "ipython",
    "version": 3
   },
   "file_extension": ".py",
   "mimetype": "text/x-python",
   "name": "python",
   "nbconvert_exporter": "python",
   "pygments_lexer": "ipython3",
   "version": "3.10.6"
  },
  "orig_nbformat": 4,
  "vscode": {
   "interpreter": {
    "hash": "094eaae670c28e65ae0b4dc75619aca9a9a707dc132c2546902993ea42db861e"
   }
  }
 },
 "nbformat": 4,
 "nbformat_minor": 2
}
